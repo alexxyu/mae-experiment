{
 "cells": [
  {
   "cell_type": "code",
   "execution_count": 109,
   "metadata": {},
   "outputs": [],
   "source": [
    "import glob\n",
    "import time\n",
    "import numpy as np\n",
    "import pandas as pd\n",
    "from scipy.stats import norm\n",
    "from scipy.optimize import curve_fit\n",
    "from matplotlib import pyplot as plt"
   ]
  },
  {
   "cell_type": "code",
   "execution_count": 229,
   "metadata": {},
   "outputs": [],
   "source": [
    "files = glob.glob('data/Unidirectional/Combined/*.csv')\n",
    "files.extend(glob.glob('data/Bidirectional/Combined/*.csv'))"
   ]
  },
  {
   "cell_type": "code",
   "execution_count": 228,
   "metadata": {},
   "outputs": [
    {
     "name": "stdout",
     "output_type": "stream",
     "text": [
      "\n"
     ]
    }
   ],
   "source": [
    "bidirectional = glob.glob('data/Bidirectional/*.csv')\n",
    "\n",
    "subjects = set()\n",
    "for file in bidirectional:\n",
    "    subjects.add(file[file.rfind('/')+1:][:3])\n",
    "\n",
    "for subject in subjects:\n",
    "    data = glob.glob(f'data/Bidirectional/*{subject}*_Adapt.csv')\n",
    "    data = [pd.read_csv(d, index_col=0) for d in data]\n",
    "    pd.concat(data).to_csv(f'data/Bidirectional/Combined/{subject}_Adapt.csv')"
   ]
  },
  {
   "cell_type": "code",
   "execution_count": 235,
   "metadata": {},
   "outputs": [
    {
     "name": "stdout",
     "output_type": "stream",
     "text": [
      "NXN: -10.0, 70.0\t1\n",
      "KSM: -70.0, 10.0\t-1\n",
      "TEE: -70.0, 10.0\t-1\n",
      "SXK: -40.0, 70.0\t1\n",
      "MJL: -10.0, 70.0\t1\n",
      "JDG: -70.0, 10.0\t-1\n",
      "NST: -70.0, 10.0\t-1\n",
      "TXD: -10.0, 70.0\t1\n",
      "KXT: -10.0, 70.0\t1\n",
      "MXW: -70.0, 10.0\t-1\n",
      "ANB: -10.0, 70.0\t1\n",
      "NXS: -70.0, 10.0\t-1\n"
     ]
    }
   ],
   "source": [
    "def f(x, m, s):\n",
    "    return norm.cdf(x, m, s)\n",
    "\n",
    "output = pd.DataFrame(columns=['Name', 'Exp Type', 'Mu', 'Sigma', 'Direction'])\n",
    "\n",
    "for file in files:\n",
    "    \n",
    "    data = pd.read_csv(file, index_col=0)\n",
    "\n",
    "    count_data = data.groupby('Test Speed')['Response'].apply(lambda x: x[x.str.contains('right')].count())\n",
    "    total_counts = data.groupby('Test Speed').count()['Response']\n",
    "    speeds = count_data.index.tolist()\n",
    "    t = np.linspace(min(speeds), max(speeds), 1000)\n",
    "\n",
    "    right_counts = count_data.tolist()\n",
    "    right_props = [r / c for r, c in zip(right_counts, total_counts)]\n",
    "\n",
    "    mu, sigma = curve_fit(f, speeds, right_props, p0=[0, 2], method='dogbox')[0]\n",
    "    \n",
    "    name = file[file.rfind('/')+1:][:3].upper()\n",
    "    t_type = 'Unidirectional' if 'Unidirectional' in file else 'Bidirectional'\n",
    "    if 'noAdapt' in file:\n",
    "        t_type = 'No Adapt'\n",
    "    elif 'practice' in file:\n",
    "        t_type = 'Practice'\n",
    "    else:\n",
    "        t_type += ' Adapt'\n",
    "    \n",
    "    if 'noAdapt' in file or 'practice' in file:\n",
    "        direction = ''\n",
    "    elif 'Bidirectional' in file:\n",
    "        direction = 0\n",
    "    else:\n",
    "        direction = -1 if min(speeds) < -40 else 1\n",
    "        #print(f'{name}: {min(speeds)}, {max(speeds)}\\t{direction}')\n",
    "    \n",
    "    output.loc[len(output)] = [name, t_type, mu, sigma, direction]\n",
    "    \n",
    "    if 'practice' in file:\n",
    "        continue\n",
    "    \n",
    "    #plt.plot(speeds, right_props, alpha=.5, label='Subject')\n",
    "    plt.figure(figsize=(8,6))\n",
    "    plt.scatter(speeds, right_props, color='orange', label='Subject Data')\n",
    "    plt.plot(t, norm.cdf(t, mu, sigma), alpha=.5, color='blue', label='Guassian Fit')\n",
    "    plt.axhline(y=0.5, color='r', linewidth=0.5, linestyle='dashed')\n",
    "    plt.axvline(x=0, color='r', linewidth=0.5, linestyle='dashed')\n",
    "    plt.ylim(-0.05, 1.05)\n",
    "    plt.xlabel('Test Stimulus Speed (deg/s)')\n",
    "    plt.ylabel('Proportion of Responding Clockwise')\n",
    "    plt.title(f'{name} ({t_type})')\n",
    "    plt.legend(loc='lower right', framealpha=0.5)\n",
    "    \n",
    "    filename = file[file.rfind('/'):-4]\n",
    "    plt.savefig(f'plots/{filename}.pdf')\n",
    "    plt.close()\n",
    "\n",
    "output = output.sort_values(['Name', 'Exp Type']).reset_index(drop=True)"
   ]
  },
  {
   "cell_type": "code",
   "execution_count": 236,
   "metadata": {},
   "outputs": [],
   "source": [
    "output.to_csv('GaussFitData.csv')"
   ]
  },
  {
   "cell_type": "code",
   "execution_count": null,
   "metadata": {},
   "outputs": [],
   "source": []
  }
 ],
 "metadata": {
  "kernelspec": {
   "display_name": "Python 3",
   "language": "python",
   "name": "python3"
  },
  "language_info": {
   "codemirror_mode": {
    "name": "ipython",
    "version": 3
   },
   "file_extension": ".py",
   "mimetype": "text/x-python",
   "name": "python",
   "nbconvert_exporter": "python",
   "pygments_lexer": "ipython3",
   "version": "3.6.0"
  }
 },
 "nbformat": 4,
 "nbformat_minor": 2
}
